{
 "cells": [
  {
   "cell_type": "code",
   "execution_count": 2,
   "id": "a3d86a02",
   "metadata": {},
   "outputs": [
    {
     "name": "stdout",
     "output_type": "stream",
     "text": [
      "Requirement already satisfied: Pillow in c:\\users\\piyus\\anaconda3\\lib\\site-packages (10.0.1)\n"
     ]
    }
   ],
   "source": [
    "!pip install Pillow"
   ]
  },
  {
   "cell_type": "code",
   "execution_count": 3,
   "id": "c3d3e3d2",
   "metadata": {},
   "outputs": [],
   "source": [
    "import qrcode\n",
    "from PIL import Image"
   ]
  },
  {
   "cell_type": "code",
   "execution_count": 9,
   "id": "c3fa18a3",
   "metadata": {},
   "outputs": [],
   "source": [
    "qr=qrcode.QRCode(version=1,\n",
    "                error_correction=qrcode.constants.ERROR_CORRECT_H,\n",
    "                box_size=30,border=4)"
   ]
  },
  {
   "cell_type": "code",
   "execution_count": 14,
   "id": "2fac9d84",
   "metadata": {},
   "outputs": [],
   "source": [
    "qr.add_data(\"https://youtube.com\")\n",
    "qr.make(fit=True)\n",
    "img = qr.make_image(fill_color=\"purple\",back_color=\"white\")\n",
    "img.save(\"moder_QR_WEBPAGE.png\")"
   ]
  },
  {
   "cell_type": "code",
   "execution_count": null,
   "id": "5c3d5251",
   "metadata": {},
   "outputs": [],
   "source": []
  }
 ],
 "metadata": {
  "kernelspec": {
   "display_name": "Python 3 (ipykernel)",
   "language": "python",
   "name": "python3"
  },
  "language_info": {
   "codemirror_mode": {
    "name": "ipython",
    "version": 3
   },
   "file_extension": ".py",
   "mimetype": "text/x-python",
   "name": "python",
   "nbconvert_exporter": "python",
   "pygments_lexer": "ipython3",
   "version": "3.11.5"
  }
 },
 "nbformat": 4,
 "nbformat_minor": 5
}
